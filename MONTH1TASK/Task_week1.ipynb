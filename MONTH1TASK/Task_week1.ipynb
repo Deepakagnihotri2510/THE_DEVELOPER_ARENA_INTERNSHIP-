{
 "cells": [
  {
   "cell_type": "code",
   "execution_count": 4,
   "id": "8407be97",
   "metadata": {},
   "outputs": [
    {
     "name": "stdout",
     "output_type": "stream",
     "text": [
      "Welcome to the Temperature Converter!\n",
      "1. Celsius to Fahrenheit\n",
      "2. Fahrenheit to Celsius\n",
      "58.0°C is equal to 136.40°F\n"
     ]
    }
   ],
   "source": [
    "# Temperature Converter \n",
    "\n",
    "def temperature_converter():\n",
    "    print(\"Welcome to the Temperature Converter!\")\n",
    "    print(\"1. Celsius to Fahrenheit\")\n",
    "    print(\"2. Fahrenheit to Celsius\")\n",
    "    \n",
    "    choice = input(\"Enter your choice (1 or 2): \")\n",
    "    \n",
    "    if choice == '1':\n",
    "        celsius = float(input(\"Enter temperature in Celsius: \"))\n",
    "        fahrenheit = (celsius * 9/5) + 32\n",
    "        print(f\"{celsius}°C is equal to {fahrenheit:.2f}°F\")\n",
    "        \n",
    "    elif choice == '2':\n",
    "        fahrenheit = float(input(\"Enter temperature in Fahrenheit: \"))\n",
    "        celsius = (fahrenheit - 32) * 5/9\n",
    "        print(f\"{fahrenheit}°F is equal to {celsius:.2f}°C\")\n",
    "        \n",
    "    else:\n",
    "        print(\"Invalid choice. Please enter 1 or 2.\")\n",
    "        \n",
    "temperature_converter()\n"
   ]
  },
  {
   "cell_type": "code",
   "execution_count": 1,
   "id": "6b7d9f0f",
   "metadata": {},
   "outputs": [
    {
     "name": "stdout",
     "output_type": "stream",
     "text": [
      "Simple Calculator\n",
      "Select operation:\n",
      "1. Addition (+)\n",
      "2. Subtraction (-)\n",
      "3. Multiplication (*)\n",
      "4. Division (/)\n",
      "56.0 - 6.0 = 50.0\n"
     ]
    }
   ],
   "source": [
    "# Simple Calculator Program\n",
    "\n",
    "def calculator():\n",
    "    print(\"Simple Calculator\")\n",
    "    print(\"Select operation:\")\n",
    "    print(\"1. Addition (+)\")\n",
    "    print(\"2. Subtraction (-)\")\n",
    "    print(\"3. Multiplication (*)\")\n",
    "    print(\"4. Division (/)\")\n",
    "    \n",
    "    choice = input(\"Enter choice (1/2/3/4): \")\n",
    "    \n",
    "    if choice in ['1', '2', '3', '4']:\n",
    "        num1 = float(input(\"Enter first number: \"))\n",
    "        num2 = float(input(\"Enter second number: \"))\n",
    "        \n",
    "        if choice == '1':\n",
    "            result = num1 + num2\n",
    "            operation = '+'\n",
    "        elif choice == '2':\n",
    "            result = num1 - num2\n",
    "            operation = '-'\n",
    "        elif choice == '3':\n",
    "            result = num1 * num2\n",
    "            operation = '*'\n",
    "        elif choice == '4':\n",
    "            if num2 != 0:\n",
    "                result = num1 / num2\n",
    "                operation = '/'\n",
    "            else:\n",
    "                print(\"Error: Division by zero\")\n",
    "                return\n",
    "        \n",
    "        print(f\"{num1} {operation} {num2} = {result}\")\n",
    "    else:\n",
    "        print(\"Invalid input. Please choose from 1, 2, 3, or 4.\")\n",
    "\n",
    "# Call the function\n",
    "calculator()\n"
   ]
  },
  {
   "cell_type": "code",
   "execution_count": 3,
   "id": "ffeec6b4",
   "metadata": {},
   "outputs": [
    {
     "name": "stdout",
     "output_type": "stream",
     "text": [
      "Average Temperature Calculator\n",
      "\n",
      "The average temperature is: 59.20°\n"
     ]
    }
   ],
   "source": [
    "# Average Temperature Calculator\n",
    "\n",
    "def average_temperature():\n",
    "    print(\"Average Temperature Calculator\")\n",
    "    \n",
    "    try:\n",
    "        count = int(input(\"How many temperature readings do you want to enter? \"))\n",
    "        if count <= 0:\n",
    "            print(\"Please enter a positive number.\")\n",
    "            return\n",
    "\n",
    "        temperatures = []\n",
    "        for i in range(count):\n",
    "            temp = float(input(f\"Enter temperature {i+1}: \"))\n",
    "            temperatures.append(temp)\n",
    "\n",
    "        avg_temp = sum(temperatures) / count\n",
    "        print(f\"\\nThe average temperature is: {avg_temp:.2f}°\")\n",
    "    except ValueError:\n",
    "        print(\"Invalid input. Please enter numeric values only.\")\n",
    "        \n",
    "average_temperature()\n"
   ]
  },
  {
   "cell_type": "code",
   "execution_count": 5,
   "id": "9200e31f",
   "metadata": {},
   "outputs": [
    {
     "name": "stdout",
     "output_type": "stream",
     "text": [
      "Even or Odd Checker\n",
      "66 is Even.\n"
     ]
    }
   ],
   "source": [
    "# checking the number is even or odd \n",
    "print(\"Even or Odd Checker\")\n",
    "\n",
    "number = int(input(\"Enter a number: \"))\n",
    "\n",
    "if number % 2 == 0:\n",
    "    print(f\"{number} is Even.\")\n",
    "else:\n",
    "    print(f\"{number} is Odd.\")\n"
   ]
  },
  {
   "cell_type": "code",
   "execution_count": 6,
   "id": "a961cf7f",
   "metadata": {},
   "outputs": [
    {
     "name": "stdout",
     "output_type": "stream",
     "text": [
      "Multiplication Table for 4:\n",
      "4 x 1 = 4\n",
      "4 x 2 = 8\n",
      "4 x 3 = 12\n",
      "4 x 4 = 16\n",
      "4 x 5 = 20\n",
      "4 x 6 = 24\n",
      "4 x 7 = 28\n",
      "4 x 8 = 32\n",
      "4 x 9 = 36\n",
      "4 x 10 = 40\n"
     ]
    }
   ],
   "source": [
    "#  Multiplication Table Generator\n",
    "\n",
    "num = int(input(\"Enter a number to print its multiplication table: \"))\n",
    "\n",
    "print(f\"Multiplication Table for {num}:\")\n",
    "for i in range(1, 11):\n",
    "    print(f\"{num} x {i} = {num * i}\")\n"
   ]
  },
  {
   "cell_type": "code",
   "execution_count": 11,
   "id": "962d10b2",
   "metadata": {},
   "outputs": [
    {
     "name": "stdout",
     "output_type": "stream",
     "text": [
      "principal Amount  = 100000.0\n",
      "Simple Interest = 5000.0\n"
     ]
    }
   ],
   "source": [
    "# Simple Interest Calculator\n",
    "\n",
    "principal = float(input(\"Enter the principal amount: \"))\n",
    "print(\"principal Amount  =\", principal)\n",
    "rate = float(input(\"Enter the rate of interest (in %): \"))\n",
    "time = float(input(\"Enter the time (in years): \"))\n",
    "\n",
    "simple_interest = (principal * rate * time) / 100\n",
    "\n",
    "print(f\"Simple Interest = {simple_interest}\")\n"
   ]
  },
  {
   "cell_type": "code",
   "execution_count": null,
   "id": "3437e3d9",
   "metadata": {},
   "outputs": [],
   "source": []
  }
 ],
 "metadata": {
  "kernelspec": {
   "display_name": "Python 3",
   "language": "python",
   "name": "python3"
  },
  "language_info": {
   "codemirror_mode": {
    "name": "ipython",
    "version": 3
   },
   "file_extension": ".py",
   "mimetype": "text/x-python",
   "name": "python",
   "nbconvert_exporter": "python",
   "pygments_lexer": "ipython3",
   "version": "3.13.1"
  }
 },
 "nbformat": 4,
 "nbformat_minor": 5
}
