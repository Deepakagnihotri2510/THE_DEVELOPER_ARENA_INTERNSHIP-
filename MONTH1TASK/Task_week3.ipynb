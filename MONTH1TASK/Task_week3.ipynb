{
 "cells": [
  {
   "cell_type": "code",
   "execution_count": 2,
   "id": "3303811f",
   "metadata": {},
   "outputs": [],
   "source": [
    "# 1. Importing Required Libraries\n",
    "import numpy as np\n",
    "import pandas as pd"
   ]
  },
  {
   "cell_type": "code",
   "execution_count": 3,
   "id": "616b68f2",
   "metadata": {},
   "outputs": [
    {
     "name": "stdout",
     "output_type": "stream",
     "text": [
      "Numbers A: [1 2 3 4 5]\n",
      "Numbers B: [10 20 30 40 50]\n",
      "Element-wise Sum: [11 22 33 44 55]\n",
      "Element-wise Product: [ 10  40  90 160 250]\n",
      "Dot Product: 550\n",
      "Shape of Numbers A: (5,)\n",
      "Shape of Numbers B: (5,)\n",
      "Data Type of Numbers A: int64\n",
      "Data Type of Numbers B: int64\n",
      "Max in A: 5\n",
      "Min in B: 10\n",
      "Mean of A: 3.0\n"
     ]
    }
   ],
   "source": [
    "\n",
    "#2 Creating two new arrays with different variable names\n",
    "numbers_a = np.array([1, 2, 3, 4, 5])\n",
    "numbers_b = np.array([10, 20, 30, 40, 50])\n",
    "\n",
    "# Displaying the arrays\n",
    "print(\"Numbers A:\", numbers_a)\n",
    "print(\"Numbers B:\", numbers_b)\n",
    "\n",
    "# Element-wise operations\n",
    "sum_array = np.add(numbers_a, numbers_b)\n",
    "product_array = np.multiply(numbers_a, numbers_b)\n",
    "dot_result = np.dot(numbers_a, numbers_b)\n",
    "\n",
    "# Displaying results\n",
    "print(\"Element-wise Sum:\", sum_array)\n",
    "print(\"Element-wise Product:\", product_array)\n",
    "print(\"Dot Product:\", dot_result)\n",
    "\n",
    "# Additional Information\n",
    "print(\"Shape of Numbers A:\", numbers_a.shape)\n",
    "print(\"Shape of Numbers B:\", numbers_b.shape)\n",
    "print(\"Data Type of Numbers A:\", numbers_a.dtype)\n",
    "print(\"Data Type of Numbers B:\", numbers_b.dtype)\n",
    "\n",
    "# Exploring additional features\n",
    "print(\"Max in A:\", np.max(numbers_a))\n",
    "print(\"Min in B:\", np.min(numbers_b))\n",
    "print(\"Mean of A:\", np.mean(numbers_a))\n"
   ]
  },
  {
   "cell_type": "code",
   "execution_count": 5,
   "id": "58c92310",
   "metadata": {},
   "outputs": [
    {
     "name": "stdout",
     "output_type": "stream",
     "text": [
      "Original 2D Array:\n",
      " [[1 2 3]\n",
      " [4 5 6]]\n",
      "Row Vector: [10 20 30]\n",
      "Result after Broadcasting (Addition):\n",
      " [[11 22 33]\n",
      " [14 25 36]]\n",
      "Shape of 2D Array: (2, 3)\n",
      "Shape of Row Vector: (3,)\n",
      "Result Shape: (2, 3)\n"
     ]
    }
   ],
   "source": [
    "#3 Creating a 2D array (matrix) and a 1D array (row vector)\n",
    "array_2d = np.array([[1, 2, 3], [4, 5, 6]])\n",
    "row_vector = np.array([10, 20, 30])\n",
    "\n",
    "# Broadcasting: Adding the row vector to each row of the 2D array\n",
    "result = array_2d + row_vector\n",
    "\n",
    "# Displaying the arrays and result\n",
    "print(\"Original 2D Array:\\n\", array_2d)\n",
    "print(\"Row Vector:\", row_vector)\n",
    "print(\"Result after Broadcasting (Addition):\\n\", result)\n",
    "\n",
    "# Exploring dimensions for better understanding\n",
    "print(\"Shape of 2D Array:\", array_2d.shape)\n",
    "print(\"Shape of Row Vector:\", row_vector.shape)\n",
    "print(\"Result Shape:\", result.shape)\n"
   ]
  },
  {
   "cell_type": "code",
   "execution_count": null,
   "id": "3ef76b46",
   "metadata": {},
   "outputs": [
    {
     "name": "stdout",
     "output_type": "stream",
     "text": [
      "🔍 Sample Employee DataFrame with Missing Values:\n",
      "\n",
      "   EmpID FullName   Age     Dept  MonthlySalary   JoinDate\n",
      "0    201     Amit  26.0    Admin        52000.0 2019-02-10\n",
      "1    202   Bhavna  31.0     Tech        63000.0 2020-08-25\n",
      "2    203   Chetan   NaN     Tech        57000.0 2021-03-14\n",
      "3    204    Deepa  44.0  Finance            NaN 2016-10-05\n",
      "4    205     Esha  29.0     None        49000.0 2022-07-01\n",
      "5    206     None  36.0    Admin        51000.0 2019-11-17\n",
      "6    207   Farhan  41.0     Tech        62000.0 2020-01-30\n",
      "\n",
      "📊 DataFrame Summary:\n",
      "<class 'pandas.core.frame.DataFrame'>\n",
      "RangeIndex: 7 entries, 0 to 6\n",
      "Data columns (total 6 columns):\n",
      " #   Column         Non-Null Count  Dtype         \n",
      "---  ------         --------------  -----         \n",
      " 0   EmpID          7 non-null      int64         \n",
      " 1   FullName       6 non-null      object        \n",
      " 2   Age            6 non-null      float64       \n",
      " 3   Dept           6 non-null      object        \n",
      " 4   MonthlySalary  6 non-null      float64       \n",
      " 5   JoinDate       7 non-null      datetime64[ns]\n",
      "dtypes: datetime64[ns](1), float64(2), int64(1), object(2)\n",
      "memory usage: 468.0+ bytes\n",
      "None\n"
     ]
    }
   ],
   "source": [
    "# Sample employee records with some missing data\n",
    "employee_info = {\n",
    "    \"EmpID\": [201, 202, 203, 204, 205, 206, 207],\n",
    "    \"FullName\": [\"Amit\", \"Bhavna\", \"Chetan\", \"Deepa\", \"Esha\", None, \"Farhan\"],\n",
    "    \"Age\": [26, 31, None, 44, 29, 36, 41],\n",
    "    \"Dept\": [\"Admin\", \"Tech\", \"Tech\", \"Finance\", None, \"Admin\", \"Tech\"],\n",
    "    \"MonthlySalary\": [52000, 63000, 57000, None, 49000, 51000, 62000],\n",
    "    \"JoinDate\": pd.to_datetime([\n",
    "        \"2019-02-10\", \"2020-08-25\", \"2021-03-14\",\n",
    "        \"2016-10-05\", \"2022-07-01\", \"2019-11-17\", \"2020-01-30\"\n",
    "    ])\n",
    "}\n",
    "\n",
    "# Creating DataFrame\n",
    "df_emp = pd.DataFrame(employee_info)\n",
    "\n",
    "# Display the DataFrame\n",
    "print(\" Sample Employee DataFrame with Missing Values:\\n\")\n",
    "print(df_emp)\n",
    "\n",
    "# Basic info about the DataFrame\n",
    "print(\"\\n DataFrame Summary:\")\n",
    "print(df_emp.info())\n"
   ]
  },
  {
   "cell_type": "code",
   "execution_count": null,
   "id": "4357ad2f",
   "metadata": {},
   "outputs": [
    {
     "name": "stdout",
     "output_type": "stream",
     "text": [
      "\n",
      "✅ Cleaned Employee DataFrame (after handling missing values):\n",
      "\n",
      "   EmpID FullName   Age     Dept  MonthlySalary   JoinDate\n",
      "0    201     Amit  26.0    Admin        52000.0 2019-02-10\n",
      "1    202   Bhavna  31.0     Tech        63000.0 2020-08-25\n",
      "2    203   Chetan  35.5     Tech        57000.0 2021-03-14\n",
      "3    204    Deepa  44.0  Finance        58500.0 2016-10-05\n",
      "6    207   Farhan  41.0     Tech        62000.0 2020-01-30\n"
     ]
    }
   ],
   "source": [
    "#Data Cleaning – Handling Missing Values\n",
    "\n",
    "# Step 1: Remove rows where FullName or Dept is missing (important fields)\n",
    "df_filtered = df_emp.dropna(subset=[\"FullName\", \"Dept\"])\n",
    "\n",
    "# Step 2: Fill missing Age and MonthlySalary with column-wise mean\n",
    "df_filtered.loc[:, \"Age\"] = df_filtered[\"Age\"].fillna(df_filtered[\"Age\"].mean())\n",
    "df_filtered.loc[:, \"MonthlySalary\"] = df_filtered[\"MonthlySalary\"].fillna(df_filtered[\"MonthlySalary\"].mean())\n",
    "\n",
    "# Display cleaned DataFrame\n",
    "print(\"\\n Cleaned Employee DataFrame (after handling missing values):\\n\")\n",
    "print(df_filtered)\n"
   ]
  },
  {
   "cell_type": "code",
   "execution_count": 8,
   "id": "1948b746",
   "metadata": {},
   "outputs": [
    {
     "name": "stdout",
     "output_type": "stream",
     "text": [
      "\n",
      " DataFrame with a duplicate row added:\n",
      "\n",
      "   EmpID FullName   Age     Dept  MonthlySalary   JoinDate\n",
      "0    201     Amit  26.0    Admin        52000.0 2019-02-10\n",
      "1    202   Bhavna  31.0     Tech        63000.0 2020-08-25\n",
      "2    203   Chetan  35.5     Tech        57000.0 2021-03-14\n",
      "3    204    Deepa  44.0  Finance        58500.0 2016-10-05\n",
      "4    207   Farhan  41.0     Tech        62000.0 2020-01-30\n",
      "5    201     Amit  26.0    Admin        52000.0 2019-02-10\n",
      "\n",
      " DataFrame after removing duplicate rows:\n",
      "\n",
      "   EmpID FullName   Age     Dept  MonthlySalary   JoinDate\n",
      "0    201     Amit  26.0    Admin        52000.0 2019-02-10\n",
      "1    202   Bhavna  31.0     Tech        63000.0 2020-08-25\n",
      "2    203   Chetan  35.5     Tech        57000.0 2021-03-14\n",
      "3    204    Deepa  44.0  Finance        58500.0 2016-10-05\n",
      "4    207   Farhan  41.0     Tech        62000.0 2020-01-30\n"
     ]
    }
   ],
   "source": [
    "#  Step: Add a duplicate row intentionally for testing\n",
    "df_filtered = pd.concat([df_filtered, df_filtered.iloc[0:1]], ignore_index=True)\n",
    "\n",
    "print(\"\\n DataFrame with a duplicate row added:\\n\")\n",
    "print(df_filtered)\n",
    "\n",
    "#  Step: Remove duplicate rows based on all columns\n",
    "df_filtered = df_filtered.drop_duplicates()\n",
    "\n",
    "print(\"\\n DataFrame after removing duplicate rows:\\n\")\n",
    "print(df_filtered)\n"
   ]
  },
  {
   "cell_type": "code",
   "execution_count": 9,
   "id": "6f8ff4e0",
   "metadata": {},
   "outputs": [
    {
     "name": "stdout",
     "output_type": "stream",
     "text": [
      "\n",
      " Employees in Tech Department:\n",
      "\n",
      "   EmpID FullName   Age  Dept  MonthlySalary   JoinDate\n",
      "1    202   Bhavna  31.0  Tech        63000.0 2020-08-25\n",
      "2    203   Chetan  35.5  Tech        57000.0 2021-03-14\n",
      "4    207   Farhan  41.0  Tech        62000.0 2020-01-30\n",
      "\n",
      " Employees with MonthlySalary > 55,000:\n",
      "\n",
      "   EmpID FullName   Age     Dept  MonthlySalary   JoinDate\n",
      "1    202   Bhavna  31.0     Tech        63000.0 2020-08-25\n",
      "2    203   Chetan  35.5     Tech        57000.0 2021-03-14\n",
      "3    204    Deepa  44.0  Finance        58500.0 2016-10-05\n",
      "4    207   Farhan  41.0     Tech        62000.0 2020-01-30\n"
     ]
    }
   ],
   "source": [
    "#  Advanced Indexing and Filtering\n",
    "\n",
    "# 1️ Select employees from the 'Tech' department only\n",
    "tech_team = df_filtered[df_filtered[\"Dept\"] == \"Tech\"]\n",
    "print(\"\\n Employees in Tech Department:\\n\")\n",
    "print(tech_team)\n",
    "\n",
    "# 2️⃣ Select employees with MonthlySalary greater than 55,000\n",
    "high_salary_employees = df_filtered[df_filtered[\"MonthlySalary\"] > 55000]\n",
    "print(\"\\n Employees with MonthlySalary > 55,000:\\n\")\n",
    "print(high_salary_employees)\n"
   ]
  },
  {
   "cell_type": "code",
   "execution_count": 10,
   "id": "90917b34",
   "metadata": {},
   "outputs": [
    {
     "name": "stdout",
     "output_type": "stream",
     "text": [
      "\n",
      " DataFrame sorted by MonthlySalary (High to Low):\n",
      "\n",
      "   EmpID FullName   Age     Dept  MonthlySalary   JoinDate\n",
      "1    202   Bhavna  31.0     Tech        63000.0 2020-08-25\n",
      "4    207   Farhan  41.0     Tech        62000.0 2020-01-30\n",
      "3    204    Deepa  44.0  Finance        58500.0 2016-10-05\n",
      "2    203   Chetan  35.5     Tech        57000.0 2021-03-14\n",
      "0    201     Amit  26.0    Admin        52000.0 2019-02-10\n",
      "\n",
      " Selected Columns (FullName & MonthlySalary):\n",
      "\n",
      "  FullName  MonthlySalary\n",
      "1   Bhavna        63000.0\n",
      "4   Farhan        62000.0\n",
      "3    Deepa        58500.0\n",
      "2   Chetan        57000.0\n",
      "0     Amit        52000.0\n"
     ]
    }
   ],
   "source": [
    "#  Sorting and Selecting Specific Columns\n",
    "\n",
    "# 1️ Sort the DataFrame by MonthlySalary in descending order\n",
    "df_sorted = df_filtered.sort_values(by=\"MonthlySalary\", ascending=False)\n",
    "print(\"\\n DataFrame sorted by MonthlySalary (High to Low):\\n\")\n",
    "print(df_sorted)\n",
    "\n",
    "# 2️ Select only FullName and MonthlySalary columns\n",
    "salary_info = df_sorted[[\"FullName\", \"MonthlySalary\"]]\n",
    "print(\"\\n Selected Columns (FullName & MonthlySalary):\\n\")\n",
    "print(salary_info)\n"
   ]
  },
  {
   "cell_type": "code",
   "execution_count": 11,
   "id": "fa0d4736",
   "metadata": {},
   "outputs": [
    {
     "name": "stdout",
     "output_type": "stream",
     "text": [
      "\n",
      " Average Monthly Salary by Department:\n",
      "\n",
      "      Dept  MonthlySalary\n",
      "0    Admin   52000.000000\n",
      "1  Finance   58500.000000\n",
      "2     Tech   60666.666667\n",
      "\n",
      " Department-wise Employee Count and Average Age:\n",
      "\n",
      "         EmployeeCount  AverageAge\n",
      "Dept                              \n",
      "Admin                1   26.000000\n",
      "Finance              1   44.000000\n",
      "Tech                 3   35.833333\n"
     ]
    }
   ],
   "source": [
    "# Grouping Data for Aggregation\n",
    "\n",
    "# 1️ Calculate average MonthlySalary by Dept\n",
    "avg_salary_by_dept = df_filtered.groupby(\"Dept\")[\"MonthlySalary\"].mean().reset_index()\n",
    "print(\"\\n Average Monthly Salary by Department:\\n\")\n",
    "print(avg_salary_by_dept)\n",
    "\n",
    "# 2️ Calculate employee count and average age per department\n",
    "dept_summary = df_filtered.groupby(\"Dept\").agg({\n",
    "    \"EmpID\": \"count\",\n",
    "    \"Age\": \"mean\"\n",
    "}).rename(columns={\n",
    "    \"EmpID\": \"EmployeeCount\",\n",
    "    \"Age\": \"AverageAge\"\n",
    "})\n",
    "\n",
    "print(\"\\n Department-wise Employee Count and Average Age:\\n\")\n",
    "print(dept_summary)\n"
   ]
  },
  {
   "cell_type": "code",
   "execution_count": 12,
   "id": "bc68b343",
   "metadata": {},
   "outputs": [
    {
     "name": "stdout",
     "output_type": "stream",
     "text": [
      "\n",
      " DataFrame with new 'AgeGroup' column:\n",
      "\n",
      "   EmpID FullName   Age     Dept  MonthlySalary   JoinDate AgeGroup\n",
      "0    201     Amit  26.0    Admin        52000.0 2019-02-10    Young\n",
      "1    202   Bhavna  31.0     Tech        63000.0 2020-08-25  Mid-age\n",
      "2    203   Chetan  35.5     Tech        57000.0 2021-03-14  Mid-age\n",
      "3    204    Deepa  44.0  Finance        58500.0 2016-10-05   Senior\n",
      "4    207   Farhan  41.0     Tech        62000.0 2020-01-30   Senior\n"
     ]
    }
   ],
   "source": [
    "# Define a function to categorize employees by age group\n",
    "def get_age_group(age):\n",
    "    \"\"\"\n",
    "    Categorizes employees into age groups:\n",
    "    - 'Young' if age < 30\n",
    "    - 'Mid-age' if 30 <= age < 40\n",
    "    - 'Senior' if age >= 40\n",
    "    \"\"\"\n",
    "    if age < 30:\n",
    "        return \"Young\"\n",
    "    elif age < 40:\n",
    "        return \"Mid-age\"\n",
    "    else:\n",
    "        return \"Senior\"\n",
    "\n",
    "#  Apply function to create a new column 'AgeGroup'\n",
    "df_filtered.loc[:, \"AgeGroup\"] = df_filtered[\"Age\"].apply(get_age_group)\n",
    "\n",
    "print(\"\\n DataFrame with new 'AgeGroup' column:\\n\")\n",
    "print(df_filtered)\n"
   ]
  },
  {
   "cell_type": "code",
   "execution_count": 13,
   "id": "ba3dec7f",
   "metadata": {},
   "outputs": [
    {
     "name": "stdout",
     "output_type": "stream",
     "text": [
      "\n",
      " Average MonthlySalary by AgeGroup:\n",
      "\n",
      "  AgeGroup  MonthlySalary\n",
      "0  Mid-age        60000.0\n",
      "1   Senior        60250.0\n",
      "2    Young        52000.0\n"
     ]
    }
   ],
   "source": [
    "#  Aggregating by New 'AgeGroup' Column\n",
    "\n",
    "# 1️ Calculate average MonthlySalary by AgeGroup\n",
    "avg_salary_by_agegroup = df_filtered.groupby(\"AgeGroup\")[\"MonthlySalary\"].mean().reset_index()\n",
    "\n",
    "print(\"\\n Average MonthlySalary by AgeGroup:\\n\")\n",
    "print(avg_salary_by_agegroup)\n"
   ]
  },
  {
   "cell_type": "code",
   "execution_count": 14,
   "id": "6371db51",
   "metadata": {},
   "outputs": [
    {
     "name": "stdout",
     "output_type": "stream",
     "text": [
      "\n",
      " Employees who joined after 2019-01-01:\n",
      "\n",
      "   EmpID FullName   Age   Dept  MonthlySalary   JoinDate AgeGroup\n",
      "0    201     Amit  26.0  Admin        52000.0 2019-02-10    Young\n",
      "1    202   Bhavna  31.0   Tech        63000.0 2020-08-25  Mid-age\n",
      "2    203   Chetan  35.5   Tech        57000.0 2021-03-14  Mid-age\n",
      "4    207   Farhan  41.0   Tech        62000.0 2020-01-30   Senior\n"
     ]
    }
   ],
   "source": [
    "# Handling Date Columns and Filtering by Date\n",
    "\n",
    "# Filter employees who joined after January 1, 2019\n",
    "recent_joiners = df_filtered[df_filtered[\"JoinDate\"] > \"2019-01-01\"]\n",
    "\n",
    "print(\"\\n Employees who joined after 2019-01-01:\\n\")\n",
    "print(recent_joiners)\n"
   ]
  }
 ],
 "metadata": {
  "kernelspec": {
   "display_name": "Python 3",
   "language": "python",
   "name": "python3"
  },
  "language_info": {
   "codemirror_mode": {
    "name": "ipython",
    "version": 3
   },
   "file_extension": ".py",
   "mimetype": "text/x-python",
   "name": "python",
   "nbconvert_exporter": "python",
   "pygments_lexer": "ipython3",
   "version": "3.13.1"
  }
 },
 "nbformat": 4,
 "nbformat_minor": 5
}
