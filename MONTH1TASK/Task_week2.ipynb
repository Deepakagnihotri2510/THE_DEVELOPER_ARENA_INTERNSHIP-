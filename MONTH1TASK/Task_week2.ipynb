{
 "cells": [
  {
   "cell_type": "code",
   "execution_count": 8,
   "id": "babab539",
   "metadata": {},
   "outputs": [
    {
     "name": "stdout",
     "output_type": "stream",
     "text": [
      "numbers List: [1, 2, 3, 4, 45]\n",
      "list numbers: 45\n"
     ]
    }
   ],
   "source": [
    "#list \n",
    "\n",
    "numbers = [1, 2, 3, 4, 5]\n",
    "\n",
    "numbers.append(45)\n",
    "numbers.remove(5)\n",
    "print(\"numbers List:\", numbers)\n",
    "print(\"list numbers:\", numbers[4])\n"
   ]
  },
  {
   "cell_type": "code",
   "execution_count": 9,
   "id": "7f3e463c",
   "metadata": {},
   "outputs": [
    {
     "name": "stdout",
     "output_type": "stream",
     "text": [
      "My Tuple: ('apple', 'banana', 'cherry')\n",
      "First item: apple\n",
      "Second item: banana\n"
     ]
    }
   ],
   "source": [
    "# tuple \n",
    "my_tuple = (\"apple\", \"banana\", \"cherry\")\n",
    "\n",
    "# Printing the whole tuple\n",
    "print(\"My Tuple:\", my_tuple)\n",
    "\n",
    "# Accessing elements by index\n",
    "print(\"First item:\", my_tuple[0])\n",
    "print(\"Second item:\", my_tuple[1])"
   ]
  },
  {
   "cell_type": "code",
   "execution_count": 10,
   "id": "623eb47d",
   "metadata": {},
   "outputs": [
    {
     "name": "stdout",
     "output_type": "stream",
     "text": [
      "Student Info: {'name': 'Deepak', 'age': 20, 'course': 'B.Tech CSE AI&ds'}\n",
      "Name: Deepak\n",
      "Age: 20\n",
      "Course: B.Tech CSE AI&ds\n"
     ]
    }
   ],
   "source": [
    "# Simple Dictionary Example\n",
    "\n",
    "# Creating a dictionary\n",
    "student = {\n",
    "    \"name\": \"Deepak\",\n",
    "    \"age\": 20,\n",
    "    \"course\": \"B.Tech CSE AI&ds\"\n",
    "}\n",
    "\n",
    "# Printing the whole dictionary\n",
    "print(\"Student Info:\", student)\n",
    "\n",
    "# Accessing individual values\n",
    "print(\"Name:\", student[\"name\"])\n",
    "print(\"Age:\", student[\"age\"])\n",
    "print(\"Course:\", student[\"course\"])\n"
   ]
  },
  {
   "cell_type": "code",
   "execution_count": 11,
   "id": "c0a36705",
   "metadata": {},
   "outputs": [
    {
     "name": "stdout",
     "output_type": "stream",
     "text": [
      "Original Set: {'cherry', 'banana', 'apple'}\n",
      "After adding 'orange': {'orange', 'cherry', 'banana', 'apple'}\n",
      "After removing 'banana': {'orange', 'cherry', 'apple'}\n",
      "Is 'apple' in the set? True\n",
      "All items in the set:\n",
      "- orange\n",
      "- cherry\n",
      "- apple\n"
     ]
    }
   ],
   "source": [
    "# Simple Set Example\n",
    "\n",
    "# Creating a set\n",
    "fruits = {\"apple\", \"banana\", \"cherry\",\"apple\"}\n",
    "\n",
    "# Displaying the set\n",
    "print(\"Original Set:\", fruits)\n",
    "\n",
    "# Adding an item\n",
    "fruits.add(\"orange\")\n",
    "print(\"After adding 'orange':\", fruits)\n",
    "\n",
    "# Removing an item\n",
    "fruits.remove(\"banana\")\n",
    "print(\"After removing 'banana':\", fruits)\n",
    "\n",
    "# Checking membership\n",
    "print(\"Is 'apple' in the set?\", \"apple\" in fruits)\n",
    "\n",
    "# Looping through the set\n",
    "print(\"All items in the set:\")\n",
    "for fruit in fruits:\n",
    "    print(\"-\", fruit)\n"
   ]
  },
  {
   "cell_type": "code",
   "execution_count": 12,
   "id": "bdd8f547",
   "metadata": {},
   "outputs": [
    {
     "name": "stdout",
     "output_type": "stream",
     "text": [
      "Squares: [1, 4, 9, 16, 25]\n",
      "Sum of squares: 55\n"
     ]
    }
   ],
   "source": [
    "# list comprihension and sum of squres\n",
    "\n",
    "n = int(input(\"Enter a positive integer: \"))\n",
    "\n",
    "squares = [x**2 for x in range(1, n + 1)]\n",
    "\n",
    "sum_of_squares = sum(squares)\n",
    "\n",
    "print(\"Squares:\", squares)\n",
    "print(\"Sum of squares:\", sum_of_squares)\n"
   ]
  },
  {
   "cell_type": "code",
   "execution_count": 13,
   "id": "ecfdd663",
   "metadata": {},
   "outputs": [
    {
     "name": "stdout",
     "output_type": "stream",
     "text": [
      "Squares: [2, 4, 6, 8, 10]\n",
      "Sum of squares: 30\n"
     ]
    }
   ],
   "source": [
    "# Take user input\n",
    "n = int(input(\"Enter a positive integer: \"))\n",
    "\n",
    "# Use map and lambda to compute squares from 1 to n\n",
    "squares = list(map(lambda x: x*2, range(1, n + 1)))\n",
    "\n",
    "# Calculate the sum of squares\n",
    "sum_of_squares = sum(squares)\n",
    "\n",
    "# Display the result\n",
    "print(\"Squares:\", squares)\n",
    "print(\"Sum of squares:\", sum_of_squares)\n"
   ]
  },
  {
   "cell_type": "code",
   "execution_count": 14,
   "id": "a4c63c8f",
   "metadata": {},
   "outputs": [
    {
     "name": "stdout",
     "output_type": "stream",
     "text": [
      "Original: [5]\n",
      "Doubled: [10]\n"
     ]
    }
   ],
   "source": [
    "# Take user input in one line, separated by space\n",
    "nums = list(map(int, input(\"Enter numbers separated by space: \").split()))\n",
    "\n",
    "# Use lambda and map to double the numbers\n",
    "doubled = list(map(lambda x: x * 2, nums))\n",
    "\n",
    "# Print the results\n",
    "print(\"Original:\", nums)\n",
    "print(\"Doubled:\", doubled)\n"
   ]
  },
  {
   "cell_type": "code",
   "execution_count": 15,
   "id": "82c69427",
   "metadata": {},
   "outputs": [
    {
     "name": "stdout",
     "output_type": "stream",
     "text": [
      "Factorial of 5 is: 120\n"
     ]
    }
   ],
   "source": [
    "def factorial(n):\n",
    "    result = 1\n",
    "    for i in range(2, n + 1):\n",
    "        result *= i\n",
    "    return result\n",
    "\n",
    "# Take input from user\n",
    "num = int(input(\"Enter a non-negative integer: \"))\n",
    "\n",
    "if num < 0:\n",
    "    print(\"Factorial is not defined for negative numbers.\")\n",
    "else:\n",
    "    print(f\"Factorial of {num} is: {factorial(num)}\")\n"
   ]
  },
  {
   "cell_type": "code",
   "execution_count": 16,
   "id": "1cb2f87f",
   "metadata": {},
   "outputs": [
    {
     "name": "stdout",
     "output_type": "stream",
     "text": [
      "Original data: [10, 20, 20, 30, 40, 40, 50, 60, 60]\n",
      "Unique data: [40, 10, 50, 20, 60, 30]\n",
      "Filtered data (values > 30): [40, 50, 60]\n"
     ]
    }
   ],
   "source": [
    "# Sample data with duplicates\n",
    "data = [10, 20, 20, 30, 40, 40, 50, 60, 60]\n",
    "\n",
    "# Remove duplicates by converting to a set, then back to a list\n",
    "unique_data = list(set(data))\n",
    "\n",
    "# Filter values greater than 30\n",
    "filtered_data = [x for x in unique_data if x > 30]\n",
    "\n",
    "print(\"Original data:\", data)\n",
    "print(\"Unique data:\", unique_data)\n",
    "print(\"Filtered data (values > 30):\", filtered_data)\n"
   ]
  },
  {
   "cell_type": "code",
   "execution_count": 17,
   "id": "4dfa12e0",
   "metadata": {},
   "outputs": [
    {
     "name": "stdout",
     "output_type": "stream",
     "text": [
      "Original Data: [10, 20, 10, 30, 40, 30, 50, 20]\n",
      "Cleaned Data (duplicates removed): [10, 20, 30, 40, 50]\n"
     ]
    }
   ],
   "source": [
    "data = [10, 20, 10, 30, 40, 30, 50, 20]\n",
    "\n",
    "# Using set to remove duplicates, preserving order\n",
    "def remove_duplicates(lst):\n",
    "    seen = set()\n",
    "    result = []\n",
    "    for item in lst:\n",
    "        if item not in seen:\n",
    "            result.append(item)\n",
    "            seen.add(item)\n",
    "    return result\n",
    "\n",
    "cleaned_data = remove_duplicates(data)\n",
    "print(\"Original Data:\", data)\n",
    "print(\"Cleaned Data (duplicates removed):\", cleaned_data)"
   ]
  },
  {
   "cell_type": "code",
   "execution_count": 18,
   "id": "3f04e10e",
   "metadata": {},
   "outputs": [
    {
     "name": "stdout",
     "output_type": "stream",
     "text": [
      "Original Data: [12, -3, 7, 0, -1, 5, 10]\n",
      "Filtered Data (positive only): [12, 7, 5, 10]\n"
     ]
    }
   ],
   "source": [
    "data = [12, -3, 7, 0, -1, 5, 10]\n",
    "\n",
    "# Filter only positive values\n",
    "positive_data = [x for x in data if x > 0]\n",
    "\n",
    "print(\"Original Data:\", data)\n",
    "print(\"Filtered Data (positive only):\", positive_data)"
   ]
  },
  {
   "cell_type": "code",
   "execution_count": 19,
   "id": "6025f14a",
   "metadata": {},
   "outputs": [
    {
     "name": "stdout",
     "output_type": "stream",
     "text": [
      "Original Names: ['Alice', '', 'Bob', 'Charlie', '', 'David']\n",
      "Cleaned Names (empty removed): ['Alice', 'Bob', 'Charlie', 'David']\n"
     ]
    }
   ],
   "source": [
    "names = [\"Alice\", \"\", \"Bob\", \"Charlie\", \"\", \"David\"]\n",
    "\n",
    "# Remove empty strings\n",
    "cleaned_names = [name for name in names if name != \"\"]\n",
    "\n",
    "print(\"Original Names:\", names)\n",
    "print(\"Cleaned Names (empty removed):\", cleaned_names)"
   ]
  },
  {
   "cell_type": "code",
   "execution_count": 20,
   "id": "745728db",
   "metadata": {},
   "outputs": [
    {
     "name": "stdout",
     "output_type": "stream",
     "text": [
      "Raw Data: ['  apple ', 'banana  ', '  cherry', ' date ']\n",
      "Cleaned Data (whitespace removed): ['apple', 'banana', 'cherry', 'date']\n"
     ]
    }
   ],
   "source": [
    "raw_data = [\"  apple \", \"banana  \", \"  cherry\", \" date \"]\n",
    "\n",
    "# Strip whitespace from each string\n",
    "cleaned_data = [item.strip() for item in raw_data]\n",
    "\n",
    "print(\"Raw Data:\", raw_data)\n",
    "print(\"Cleaned Data (whitespace removed):\", cleaned_data)"
   ]
  },
  {
   "cell_type": "code",
   "execution_count": 21,
   "id": "8452b474",
   "metadata": {},
   "outputs": [
    {
     "name": "stdout",
     "output_type": "stream",
     "text": [
      "Original Data: [10, None, 20, None, 30, 40, None]\n",
      "Cleaned Data (None replaced with 0): [10, 0, 20, 0, 30, 40, 0]\n"
     ]
    }
   ],
   "source": [
    "data = [10, None, 20, None, 30, 40, None]\n",
    "\n",
    "# Replace None with 0\n",
    "cleaned_data = [x if x is not None else 0 for x in data]\n",
    "\n",
    "print(\"Original Data:\", data)\n",
    "print(\"Cleaned Data (None replaced with 0):\", cleaned_data)"
   ]
  },
  {
   "cell_type": "code",
   "execution_count": 22,
   "id": "1cfa1353",
   "metadata": {},
   "outputs": [
    {
     "name": "stdout",
     "output_type": "stream",
     "text": [
      "Original Data: {'John': 25, 'Alice': 30, 'Bob': 19, 'Diana': 17}\n",
      "Filtered Data (age >= 20): {'John': 25, 'Alice': 30}\n"
     ]
    }
   ],
   "source": [
    "data = {\n",
    "    \"John\": 25,\n",
    "    \"Alice\": 30,\n",
    "    \"Bob\": 19,\n",
    "    \"Diana\": 17\n",
    "}\n",
    "\n",
    "# Filter entries where age is >= 20\n",
    "filtered_data = {k: v for k, v in data.items() if v >= 20}\n",
    "\n",
    "print(\"Original Data:\", data)\n",
    "print(\"Filtered Data (age >= 20):\", filtered_data)"
   ]
  },
  {
   "cell_type": "code",
   "execution_count": 23,
   "id": "2e3bf0f4",
   "metadata": {},
   "outputs": [
    {
     "name": "stdout",
     "output_type": "stream",
     "text": [
      "Original Data: [{'id': 1, 'name': 'John'}, {'id': 2, 'name': 'Alice'}, {'id': 1, 'name': 'John'}, {'id': 3, 'name': 'Bob'}]\n",
      "Cleaned Data (duplicates removed by id): [{'id': 1, 'name': 'John'}, {'id': 2, 'name': 'Alice'}, {'id': 3, 'name': 'Bob'}]\n"
     ]
    }
   ],
   "source": [
    "data = [\n",
    "    {\"id\": 1, \"name\": \"John\"},\n",
    "    {\"id\": 2, \"name\": \"Alice\"},\n",
    "    {\"id\": 1, \"name\": \"John\"},\n",
    "    {\"id\": 3, \"name\": \"Bob\"}\n",
    "]\n",
    "\n",
    "# Remove duplicates based on 'id'\n",
    "def remove_dict_duplicates(lst, key):\n",
    "    seen = set()\n",
    "    result = []\n",
    "    for d in lst:\n",
    "        val = d[key]\n",
    "        if val not in seen:\n",
    "            result.append(d)\n",
    "            seen.add(val)\n",
    "    return result\n",
    "\n",
    "cleaned_data = remove_dict_duplicates(data, \"id\")\n",
    "print(\"Original Data:\", data)\n",
    "print(\"Cleaned Data (duplicates removed by id):\", cleaned_data)"
   ]
  },
  {
   "cell_type": "code",
   "execution_count": null,
   "id": "f60a0178",
   "metadata": {},
   "outputs": [],
   "source": []
  }
 ],
 "metadata": {
  "kernelspec": {
   "display_name": "Python 3",
   "language": "python",
   "name": "python3"
  },
  "language_info": {
   "codemirror_mode": {
    "name": "ipython",
    "version": 3
   },
   "file_extension": ".py",
   "mimetype": "text/x-python",
   "name": "python",
   "nbconvert_exporter": "python",
   "pygments_lexer": "ipython3",
   "version": "3.13.1"
  }
 },
 "nbformat": 4,
 "nbformat_minor": 5
}
